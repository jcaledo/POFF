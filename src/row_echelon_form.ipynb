{
 "cells": [
  {
   "cell_type": "code",
   "execution_count": 1,
   "metadata": {},
   "outputs": [],
   "source": [
    "import sys\n",
    "import numpy as np\n",
    "import Zmod as zm"
   ]
  },
  {
   "cell_type": "code",
   "execution_count": 6,
   "metadata": {},
   "outputs": [],
   "source": [
    "def find_nonzero_row(matrix, pivot_row, col): \n",
    "    nrows = matrix.shape[0] \n",
    "    for row in range(pivot_row, nrows):\n",
    "        if matrix[row, col] != 0: \n",
    "            return row \n",
    "    return None"
   ]
  },
  {
   "cell_type": "code",
   "execution_count": 7,
   "metadata": {},
   "outputs": [],
   "source": [
    "def swap_rows(matrix, row1, row2):\n",
    "    matrix[row1], matrix[row2] = matrix[row2], matrix[row1]"
   ]
  },
  {
   "cell_type": "code",
   "execution_count": 33,
   "metadata": {},
   "outputs": [],
   "source": [
    "def make_pivot_one(matrix, pivot_row, col, mod = None):\n",
    "    \"\"\"_summary_\n",
    "\n",
    "    Args:\n",
    "        matrix (_type_): _description_\n",
    "        pivot_row (_type_): _description_\n",
    "        col (_type_): _description_\n",
    "        mod (_type_, optional): _description_. Defaults to None.\n",
    "    \"\"\"\n",
    "    if mod == None:\n",
    "        pivot = matrix[pivot_row, col]\n",
    "        matrix[pivot_row] //= pivot\n",
    "    elif type(mod) is int:\n",
    "        pivot_inv = zm.get_inv(matrix[pivot_row, col], mod)\n",
    "        matrix[pivot_row] *= pivot_inv\n",
    "        matrix[pivot_row] = matrix[pivot_row] % mod\n",
    "    else:\n",
    "        sys.exit(\"The mod should be a positive integer\")"
   ]
  },
  {
   "cell_type": "code",
   "execution_count": 34,
   "metadata": {},
   "outputs": [
    {
     "name": "stdout",
     "output_type": "stream",
     "text": [
      "[[1 2 2 2]\n",
      " [2 1 1 1]\n",
      " [2 1 1 1]\n",
      " [1 2 2 0]]\n"
     ]
    }
   ],
   "source": [
    "A = matrix = np.array([[ 2, -2,  4, -2],\n",
    "       [ 2,  1, 10,  7],\n",
    "       [-4,  4, -8,  4],\n",
    "       [ 4, -1, 14,  6]])\n",
    "\n",
    "B= zm.get_canonical(A, 3)\n",
    "make_pivot_one(B, 0, 0, 3)\n",
    "\n",
    "print(B)\n"
   ]
  },
  {
   "cell_type": "code",
   "execution_count": 10,
   "metadata": {},
   "outputs": [],
   "source": [
    "def make_zero_below(matrix, pivot_row, col, mod = None):\n",
    "    \"\"\"_summary_\n",
    "\n",
    "    Args:\n",
    "        matrix (_type_): _description_\n",
    "        pivot_row (_type_): _description_\n",
    "        col (_type_): _description_\n",
    "        mod (_type_, optional): _description_. Defaults to None.\n",
    "    \"\"\"\n",
    "    nrow = matrix.shape[0]\n",
    "    for row in range(pivot_row + 1, nrow):\n",
    "        factor = matrix[row, col]\n",
    "        matrix[row] -= factor * matrix[pivot_row]"
   ]
  },
  {
   "cell_type": "code",
   "execution_count": 11,
   "metadata": {},
   "outputs": [],
   "source": [
    "M = np.array([[ 2, -2,  4, -2],\n",
    "       [ 2,  1, 10,  7],\n",
    "       [-4,  4, -8,  4],\n",
    "       [ 4, -1, 14,  6]])"
   ]
  },
  {
   "cell_type": "code",
   "execution_count": 12,
   "metadata": {},
   "outputs": [
    {
     "name": "stdout",
     "output_type": "stream",
     "text": [
      "[[ 2 -2  4 -2]\n",
      " [ 2  1 10  7]\n",
      " [-4  4 -8  4]\n",
      " [ 4 -1 14  6]]\n"
     ]
    }
   ],
   "source": [
    "print(M)"
   ]
  }
 ],
 "metadata": {
  "kernelspec": {
   "display_name": ".venv",
   "language": "python",
   "name": "python3"
  },
  "language_info": {
   "codemirror_mode": {
    "name": "ipython",
    "version": 3
   },
   "file_extension": ".py",
   "mimetype": "text/x-python",
   "name": "python",
   "nbconvert_exporter": "python",
   "pygments_lexer": "ipython3",
   "version": "3.12.4"
  }
 },
 "nbformat": 4,
 "nbformat_minor": 2
}
