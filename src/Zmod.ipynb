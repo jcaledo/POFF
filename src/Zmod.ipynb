{
 "cells": [
  {
   "cell_type": "code",
   "execution_count": 5,
   "metadata": {},
   "outputs": [],
   "source": [
    "import sys\n",
    "import numpy as np"
   ]
  },
  {
   "cell_type": "code",
   "execution_count": 6,
   "metadata": {},
   "outputs": [],
   "source": [
    "def get_canonical(matrix, mod):\n",
    "    \"\"\"Builds a matrix with entries that are representative, modulo \n",
    "    a selected value, of the original entries of the input matrix.\n",
    "\n",
    "    Args:\n",
    "        matrix (numpy.ndarray): a matrix of integers\n",
    "        mod (int): modulo, it should be a positive integer\n",
    "\n",
    "    Returns:\n",
    "        matrix (numpy.ndarray): A new matrix is created based on the original\n",
    "            input matrix, which remains conserved, with its entries replaced\n",
    "            by their respective canonical representatives.\n",
    "    \"\"\"\n",
    "    counter = 1\n",
    "    for row in matrix:\n",
    "        if counter == 1:\n",
    "            M = np.array(row % mod)\n",
    "        else:\n",
    "            M = np.vstack([M, (row % mod)])\n",
    "        counter += 1 \n",
    "    return M"
   ]
  },
  {
   "cell_type": "code",
   "execution_count": 7,
   "metadata": {},
   "outputs": [],
   "source": [
    "def get_gcd(a, b):\n",
    "    if b == 0:\n",
    "        return a, 1, 0\n",
    "    gcd, x1, y1 = get_gcd(b, a%b)\n",
    "    x = y1\n",
    "    y = x1 - (a//b)* y1\n",
    "    return gcd, x, y"
   ]
  },
  {
   "cell_type": "code",
   "execution_count": 8,
   "metadata": {},
   "outputs": [],
   "source": [
    "def get_inv(n, mod):\n",
    "    gcd, x, y = get_gcd(n, mod)\n",
    "    if gcd != 1:\n",
    "        sys.exit(f\"\\n the integer {n} and the mod {mod} are not co-prime \\n\")\n",
    "    elif gcd == 1 and x < 0: \n",
    "        return mod + x\n",
    "    elif gcd == 1 and x > 0:\n",
    "        return x\n",
    "    else:\n",
    "        sys.exit(\"Something went awfully wrong!\")"
   ]
  },
  {
   "cell_type": "code",
   "execution_count": 13,
   "metadata": {},
   "outputs": [],
   "source": [
    "import numpy as np\n",
    "A = np.array([[ 2, -2,  4, -2],\n",
    "       [ 2,  1, 10,  7],\n",
    "       [-4,  4, -8,  4],\n",
    "       [ 4, -1, 14,  6]])\n",
    "M = get_canonical(matrix = A, mod = 3)"
   ]
  },
  {
   "cell_type": "code",
   "execution_count": 9,
   "metadata": {},
   "outputs": [
    {
     "name": "stdout",
     "output_type": "stream",
     "text": [
      "3\n"
     ]
    }
   ],
   "source": [
    "print(get_inv(3, 4))"
   ]
  }
 ],
 "metadata": {
  "kernelspec": {
   "display_name": "Python 3",
   "language": "python",
   "name": "python3"
  },
  "language_info": {
   "codemirror_mode": {
    "name": "ipython",
    "version": 3
   },
   "file_extension": ".py",
   "mimetype": "text/x-python",
   "name": "python",
   "nbconvert_exporter": "python",
   "pygments_lexer": "ipython3",
   "version": "3.12.4"
  }
 },
 "nbformat": 4,
 "nbformat_minor": 2
}
