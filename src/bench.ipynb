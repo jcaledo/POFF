{
 "cells": [
  {
   "cell_type": "code",
   "execution_count": 49,
   "metadata": {},
   "outputs": [],
   "source": [
    "import sys\n",
    "import os\n",
    "sys.path.append(os.path.abspath(\"/Users/jcaledo/Py_pkgs/POFF/src\"))\n",
    "import numpy as np\n",
    "import row_echelon_form as ref\n",
    "import Zmod as zm"
   ]
  },
  {
   "cell_type": "code",
   "execution_count": 48,
   "metadata": {},
   "outputs": [],
   "source": [
    "%reset -f\n"
   ]
  },
  {
   "cell_type": "code",
   "execution_count": 50,
   "metadata": {},
   "outputs": [
    {
     "name": "stdout",
     "output_type": "stream",
     "text": [
      "[[ 4 -4  8 -4]\n",
      " [ 2  1 10  7]\n",
      " [-4  4 -8  4]\n",
      " [ 4 -1 14  6]]\n"
     ]
    }
   ],
   "source": [
    "M = np.array([[ 2, -2,  4, -2],\n",
    "                  [ 2,  1, 10,  7],\n",
    "                  [-4,  4, -8,  4],\n",
    "                  [4, -1, 14,  6]])\n",
    "\n",
    "A = M.copy()\n",
    "ref.make_pivot_one(A, 0, 0, mod = 3)\n",
    "print(A)"
   ]
  }
 ],
 "metadata": {
  "kernelspec": {
   "display_name": ".venv",
   "language": "python",
   "name": "python3"
  },
  "language_info": {
   "codemirror_mode": {
    "name": "ipython",
    "version": 3
   },
   "file_extension": ".py",
   "mimetype": "text/x-python",
   "name": "python",
   "nbconvert_exporter": "python",
   "pygments_lexer": "ipython3",
   "version": "3.12.4"
  }
 },
 "nbformat": 4,
 "nbformat_minor": 2
}
